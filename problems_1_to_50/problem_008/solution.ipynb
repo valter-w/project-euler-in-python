{
 "cells": [
  {
   "cell_type": "code",
   "execution_count": 22,
   "metadata": {},
   "outputs": [
    {
     "data": {
      "text/plain": [
       "23514624000"
      ]
     },
     "execution_count": 22,
     "metadata": {},
     "output_type": "execute_result"
    }
   ],
   "source": [
    "import re\n",
    "\n",
    "def read_digits():\n",
    "    with open(\"digits.txt\") as file:\n",
    "        content = file.read()\n",
    "\n",
    "    # remove any non-digits from file content string\n",
    "    digits = re.sub(r\"\\D\", \"\", content)\n",
    "    return digits\n",
    "\n",
    "def greatest_product(digits, factors):\n",
    "    greatest_so_far = 0\n",
    "    for i in range(0, len(digits) - factors):\n",
    "        sum_from_i = 1\n",
    "        for j in range(i, i + factors):\n",
    "            sum_from_i *= int(digits[j])\n",
    "        if sum_from_i > greatest_so_far:\n",
    "            greatest_so_far = sum_from_i\n",
    "    \n",
    "    return greatest_so_far\n",
    "\n",
    "\n",
    "\n",
    "digits = read_digits()\n",
    "greatest_product(digits, 13)"
   ]
  }
 ],
 "metadata": {
  "kernelspec": {
   "display_name": "project-euler-in-python-rPKH1rGH",
   "language": "python",
   "name": "python3"
  },
  "language_info": {
   "codemirror_mode": {
    "name": "ipython",
    "version": 3
   },
   "file_extension": ".py",
   "mimetype": "text/x-python",
   "name": "python",
   "nbconvert_exporter": "python",
   "pygments_lexer": "ipython3",
   "version": "3.11.4"
  }
 },
 "nbformat": 4,
 "nbformat_minor": 2
}
