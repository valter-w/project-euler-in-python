{
 "cells": [
  {
   "cell_type": "code",
   "execution_count": 4,
   "metadata": {},
   "outputs": [
    {
     "data": {
      "text/plain": [
       "4613732"
      ]
     },
     "execution_count": 4,
     "metadata": {},
     "output_type": "execute_result"
    }
   ],
   "source": [
    "MAX_TERM = 4_000_000\n",
    "\n",
    "def get_fib_sequence(max_term):\n",
    "    if type(max_term) is not int:\n",
    "        raise TypeError(\"argument 'max_term' must be an integer\")\n",
    "    if max_term < 2:\n",
    "        raise ValueError(\"argument 'max_term' must be > 1\")\n",
    "    \n",
    "    fib_seq = [1, 2]\n",
    "    while True:\n",
    "        next_number = fib_seq[-2] + fib_seq[-1]\n",
    "        if next_number > MAX_TERM:\n",
    "            break\n",
    "        else:\n",
    "            fib_seq.append(next_number)\n",
    "    \n",
    "    return fib_seq\n",
    "\n",
    "def sum_even_numbers(numbers):\n",
    "    sum = 0\n",
    "    for n in numbers:\n",
    "        if n % 2 == 0:\n",
    "            sum += n\n",
    "    return sum\n",
    "    \n",
    "\n",
    "\n",
    "fib_seq = get_fib_sequence(MAX_TERM)\n",
    "fib_sum = sum_even_numbers(fib_seq)\n",
    "\n",
    "fib_sum"
   ]
  }
 ],
 "metadata": {
  "kernelspec": {
   "display_name": "project-euler-in-python-rPKH1rGH",
   "language": "python",
   "name": "python3"
  },
  "language_info": {
   "codemirror_mode": {
    "name": "ipython",
    "version": 3
   },
   "file_extension": ".py",
   "mimetype": "text/x-python",
   "name": "python",
   "nbconvert_exporter": "python",
   "pygments_lexer": "ipython3",
   "version": "3.11.4"
  }
 },
 "nbformat": 4,
 "nbformat_minor": 2
}
