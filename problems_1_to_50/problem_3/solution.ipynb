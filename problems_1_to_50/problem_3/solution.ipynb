{
 "cells": [
  {
   "cell_type": "code",
   "execution_count": 1,
   "metadata": {},
   "outputs": [
    {
     "data": {
      "text/plain": [
       "6857"
      ]
     },
     "execution_count": 1,
     "metadata": {},
     "output_type": "execute_result"
    }
   ],
   "source": [
    "def get_prime_factors(product):\n",
    "    if type(product) is not int:\n",
    "        raise TypeError(\"argument 'product' must be of type 'int'\")\n",
    "    if product <= 1:\n",
    "        raise ValueError(\"argument 'product' must be > 1\")\n",
    "    \n",
    "    primes = []\n",
    "    for i in range(2, product+1):\n",
    "        if i > product:\n",
    "            return primes\n",
    "        if product % i == 0:\n",
    "            primes.append(i)\n",
    "            product /= i\n",
    "    else:\n",
    "        return primes\n",
    "\n",
    "factors = get_prime_factors(600_851_475_143)\n",
    "\n",
    "factors[-1]"
   ]
  }
 ],
 "metadata": {
  "kernelspec": {
   "display_name": "project-euler-in-python-rPKH1rGH",
   "language": "python",
   "name": "python3"
  },
  "language_info": {
   "codemirror_mode": {
    "name": "ipython",
    "version": 3
   },
   "file_extension": ".py",
   "mimetype": "text/x-python",
   "name": "python",
   "nbconvert_exporter": "python",
   "pygments_lexer": "ipython3",
   "version": "3.11.4"
  }
 },
 "nbformat": 4,
 "nbformat_minor": 2
}
